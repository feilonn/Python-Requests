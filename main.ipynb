{
 "cells": [
  {
   "cell_type": "markdown",
   "metadata": {},
   "source": [
    "**** GET ****"
   ]
  },
  {
   "cell_type": "code",
   "execution_count": 12,
   "metadata": {},
   "outputs": [
    {
     "name": "stdout",
     "output_type": "stream",
     "text": [
      "[None, {'email': 'raulvinicius245@gmail.com', 'idade': 23, 'nome': 'Raul'}, {'email': 'joao.dos.testes@gmail.com', 'idadae': 35, 'nome': 'João Teste'}]\n"
     ]
    }
   ],
   "source": [
    "import requests\n",
    "\n",
    "#Conectando com o firebase\n",
    "request_get = requests.get('https://requestspython-4411c-default-rtdb.firebaseio.com/.json')\n",
    "print(request_get.json())"
   ]
  },
  {
   "cell_type": "markdown",
   "metadata": {},
   "source": [
    "**** POST ****"
   ]
  },
  {
   "cell_type": "code",
   "execution_count": 22,
   "metadata": {},
   "outputs": [
    {
     "name": "stdout",
     "output_type": "stream",
     "text": [
      "<Response [200]>\n",
      "{'name': '-Mmx886Xd_KWb0AOVQmb'}\n"
     ]
    }
   ],
   "source": [
    "#Criando dicionário (objeto | json) entre em formato de string para o firebase\n",
    "new_user = '{\"nome\": \"Post 1\", \"email\": \"post1@gmail.com\", \"idade\": 1}'\n",
    "\n",
    "request_post = requests.post('https://requestspython-4411c-default-rtdb.firebaseio.com/.json', data = new_user)\n",
    "print(request_post)\n",
    "print(request_post.json())"
   ]
  },
  {
   "cell_type": "markdown",
   "metadata": {},
   "source": [
    "**** PATCH (UPDATE) ****"
   ]
  },
  {
   "cell_type": "code",
   "execution_count": 23,
   "metadata": {},
   "outputs": [
    {
     "name": "stdout",
     "output_type": "stream",
     "text": [
      "<Response [200]>\n",
      "{'nome': 'Post 1 att', 'idade': 7}\n"
     ]
    }
   ],
   "source": [
    "update_user = '{\"nome\": \"Post 1 att\", \"idade\": 7}'\n",
    "\n",
    "request_patch = requests.patch('https://requestspython-4411c-default-rtdb.firebaseio.com/-Mmx886Xd_KWb0AOVQmb.json', data = update_user)\n",
    "print(request_patch)\n",
    "print(request_patch.json())"
   ]
  },
  {
   "cell_type": "markdown",
   "metadata": {},
   "source": [
    "**** DELETE ****"
   ]
  },
  {
   "cell_type": "code",
   "execution_count": 25,
   "metadata": {},
   "outputs": [
    {
     "name": "stdout",
     "output_type": "stream",
     "text": [
      "<Response [200]>\n",
      "None\n"
     ]
    }
   ],
   "source": [
    "request_delete = requests.delete('https://requestspython-4411c-default-rtdb.firebaseio.com/2.json')\n",
    "print(request_delete)\n",
    "print(request_delete.json())"
   ]
  }
 ],
 "metadata": {
  "interpreter": {
   "hash": "dcfd1902832e621b9a412cd291ed7fd703a95378f8c420fbf93b87b15e15cd55"
  },
  "kernelspec": {
   "display_name": "Python 3.9.4 64-bit",
   "name": "python3"
  },
  "language_info": {
   "codemirror_mode": {
    "name": "ipython",
    "version": 3
   },
   "file_extension": ".py",
   "mimetype": "text/x-python",
   "name": "python",
   "nbconvert_exporter": "python",
   "pygments_lexer": "ipython3",
   "version": "3.9.4"
  },
  "orig_nbformat": 4
 },
 "nbformat": 4,
 "nbformat_minor": 2
}
